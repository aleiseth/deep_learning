{
 "cells": [
  {
   "cell_type": "markdown",
   "id": "ae5fe04b",
   "metadata": {},
   "source": [
    "# Single Node Implementations\n",
    "### for Deep Learning (MTH4320)"
   ]
  },
  {
   "cell_type": "markdown",
   "id": "89132d4e",
   "metadata": {},
   "source": [
    "## Gradient Descent"
   ]
  },
  {
   "cell_type": "code",
   "execution_count": 72,
   "id": "cfca152c",
   "metadata": {},
   "outputs": [],
   "source": [
    "import numpy as np"
   ]
  },
  {
   "cell_type": "code",
   "execution_count": 3,
   "id": "d73174ba",
   "metadata": {},
   "outputs": [],
   "source": [
    "# create a function that estimates gradients\n",
    "def estimate_gradient(f, x, h) :\n",
    "    # assume x is multidimensional\n",
    "    n = len(x)\n",
    "    gradient = np.zeros(n)\n",
    "    \n",
    "    for i in range(n):\n",
    "        xUp = x.copy()\n",
    "        xUp[i] += h\n",
    "        gradient[i] = (f(xUp) - f(x))/h\n",
    "        \n",
    "    return gradient"
   ]
  },
  {
   "cell_type": "code",
   "execution_count": 4,
   "id": "e80d7a89",
   "metadata": {},
   "outputs": [],
   "source": [
    "# f = function, x = list of numbers, h = constant"
   ]
  },
  {
   "cell_type": "code",
   "execution_count": 5,
   "id": "edf8e3ce",
   "metadata": {},
   "outputs": [
    {
     "data": {
      "text/plain": [
       "array([10.00000012])"
      ]
     },
     "execution_count": 5,
     "metadata": {},
     "output_type": "execute_result"
    }
   ],
   "source": [
    "f = lambda x: x[0]**2\n",
    "\n",
    "estimate_gradient(f, [5], 0.0000001)"
   ]
  },
  {
   "cell_type": "code",
   "execution_count": 6,
   "id": "8f3b2287",
   "metadata": {},
   "outputs": [
    {
     "data": {
      "text/plain": [
       "array([8.00000013, 6.00000007])"
      ]
     },
     "execution_count": 6,
     "metadata": {},
     "output_type": "execute_result"
    }
   ],
   "source": [
    "f = lambda x: x[0]**2 + x[1]**2\n",
    "\n",
    "estimate_gradient(f, [4, 3], 0.0000001)"
   ]
  },
  {
   "cell_type": "code",
   "execution_count": 7,
   "id": "fb4d47a8",
   "metadata": {},
   "outputs": [],
   "source": [
    "def gradient_descent(f, x0, alpha, h, eps, max_iterations):\n",
    "    x = x0 # initial guess for minimum\n",
    "    \n",
    "    for i in range(max_iterations):\n",
    "        # could also do a while loop on size of the gradient\n",
    "        \n",
    "        gradient = estimate_gradient(f, x, h)\n",
    "        \n",
    "        #stop if gradient is small\n",
    "        if np.linalg.norm(gradient) < eps:\n",
    "            print('iterations: ')\n",
    "            print(i)\n",
    "            return x\n",
    "        \n",
    "        # stop if we reach max iterations\n",
    "        elif i == max_iterations - 1:\n",
    "            print('Did not converge')\n",
    "            return x\n",
    "        # weight update\n",
    "        x -= alpha*gradient"
   ]
  },
  {
   "cell_type": "code",
   "execution_count": 18,
   "id": "136c8375",
   "metadata": {},
   "outputs": [
    {
     "name": "stdout",
     "output_type": "stream",
     "text": [
      "iterations: \n",
      "94\n"
     ]
    },
    {
     "data": {
      "text/plain": [
       "array([-4.61146622e-08, -5.15541351e-08])"
      ]
     },
     "execution_count": 18,
     "metadata": {},
     "output_type": "execute_result"
    }
   ],
   "source": [
    "# x can me multivariate, if stored as a list\n",
    "f = lambda x: x[0]**2 + x[1]**2\n",
    "\n",
    "gradient_descent(f, [5, -2], 0.1, 0.0000001, 0.00000001, 1000000)"
   ]
  },
  {
   "cell_type": "markdown",
   "id": "283ce7fd",
   "metadata": {},
   "source": [
    "## Least Squares Gradient"
   ]
  },
  {
   "cell_type": "code",
   "execution_count": 79,
   "id": "4e1460fe",
   "metadata": {},
   "outputs": [],
   "source": [
    "class LeastSquaresGradient:\n",
    "    def fit(self, X, y, w0, alpha, h, eps, max_iterations):\n",
    "        \n",
    "        self.n = X.shape[0]\n",
    "        self.d = X.shape[1]\n",
    "        self.h = h\n",
    "        self.alpha = alpha\n",
    "        self.initialGuess = w0\n",
    "        \n",
    "        self.data = np.hstack((np.ones([self.n, 1]), X))\n",
    "        self.outputs = y\n",
    "        \n",
    "        X = self.data\n",
    "        \n",
    "        L = lambda w: ((X @ w).T - y.T) @ (X @ w - y)\n",
    "        \n",
    "        # 'self.w' allows other functions in class to access this variable\n",
    "        self.w = self.gradient_descent(L, self.initialGuess, self.alpha, self.h, eps, max_iterations)\n",
    "        \n",
    "    def predict(self, X):\n",
    "        \n",
    "        yPredicted = np.empty([X.shape[0],1])\n",
    "            \n",
    "        X = np.hstack((np.ones([X.shape[0],1]), X))\n",
    "        for row in range(X.shape[0]):\n",
    "            yPredicted[row] = self.w @ X[row,]\n",
    "            \n",
    "        return yPredicted\n",
    "        # returns predicted output\n",
    "        \n",
    "    def gradient_descent(self, f, x0, alpha, h, eps, max_iterations):\n",
    "        x = x0 # initial guess for minimum\n",
    "\n",
    "        for i in range(max_iterations):\n",
    "            # could also do a while loop on size of the gradient\n",
    "\n",
    "            gradient = estimate_gradient(f, x, h)\n",
    "\n",
    "            #stop if gradient is small\n",
    "            if np.linalg.norm(gradient) < eps:\n",
    "                print('iterations: ')\n",
    "                print(i)\n",
    "                return x\n",
    "\n",
    "            # stop if we reach max iterations\n",
    "            elif i == max_iterations - 1:\n",
    "                print('Did not converge')\n",
    "                return x\n",
    "            # weight update\n",
    "            x -= alpha*gradient\n",
    "  "
   ]
  },
  {
   "cell_type": "code",
   "execution_count": 87,
   "id": "7514f740",
   "metadata": {},
   "outputs": [
    {
     "name": "stdout",
     "output_type": "stream",
     "text": [
      "iterations: \n",
      "29751\n",
      "\n",
      "The predicted y values are [1.87933494 2.39380935 2.90828376 3.42275817 2.39380935]\n",
      "The real y values are [1 2 3 3 4]\n"
     ]
    }
   ],
   "source": [
    "X = np.array([[6], [7], [8], [9], [7]])\n",
    "y = np.array([1, 2, 3, 3, 4])\n",
    "\n",
    "# instantiate a model from the class\n",
    "model = LeastSquaresGradient()\n",
    "\n",
    "# fit the mdoel\n",
    "model.fit(X, y, [0, 0], alpha = 0.001, h = 0.001, eps = 0.001, max_iterations = 100000)\n",
    "\n",
    "predictions = model.predict(X)\n",
    "print('\\nThe predicted y values are', predictions.T[0])\n",
    "\n",
    "print('The real y values are', y)\n"
   ]
  },
  {
   "cell_type": "code",
   "execution_count": 99,
   "id": "31d140d9",
   "metadata": {},
   "outputs": [],
   "source": [
    "import pandas as pd\n",
    "from sklearn.model_selection import train_test_split\n",
    "from sklearn.metrics import r2_score"
   ]
  },
  {
   "cell_type": "code",
   "execution_count": 100,
   "id": "22314e26",
   "metadata": {},
   "outputs": [
    {
     "name": "stdout",
     "output_type": "stream",
     "text": [
      "iterations: \n",
      "1202\n",
      "\n",
      "The r^2 score is 0.40352475701082924\n"
     ]
    }
   ],
   "source": [
    "df=pd.read_csv('US_State_Data.csv').to_numpy()\n",
    "\n",
    "# need to standardize the colums of data x = (x-mean)/st. dev\n",
    "X = np.array(df[:,1:8], dtype = float)\n",
    "X = (X - np.mean(X, axis = 0)) / np.std(X, axis = 0)\n",
    "\n",
    "y = np.array(df[:,8], dtype = float)\n",
    "\n",
    "trainX, testX, trainY, testY = train_test_split(X, y, test_size = 0.25, random_state = 1)\n",
    "\n",
    "model = LeastSquaresGradient()\n",
    "\n",
    "model.fit(trainX, trainY, [0,0,0,0,0,0,0,0], alpha = 0.001, h = 0.001, eps = 0.001, max_iterations = 100000)\n",
    "\n",
    "trainPredictions = model.predict(trainX)\n",
    "print('\\nThe r^2 score is', r2_score(trainY, trainPredictions))"
   ]
  },
  {
   "cell_type": "code",
   "execution_count": null,
   "id": "615ef10d",
   "metadata": {},
   "outputs": [],
   "source": []
  }
 ],
 "metadata": {
  "kernelspec": {
   "display_name": "Python 3 (ipykernel)",
   "language": "python",
   "name": "python3"
  },
  "language_info": {
   "codemirror_mode": {
    "name": "ipython",
    "version": 3
   },
   "file_extension": ".py",
   "mimetype": "text/x-python",
   "name": "python",
   "nbconvert_exporter": "python",
   "pygments_lexer": "ipython3",
   "version": "3.10.12"
  }
 },
 "nbformat": 4,
 "nbformat_minor": 5
}
